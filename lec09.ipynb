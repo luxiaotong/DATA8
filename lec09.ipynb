{
 "cells": [
  {
   "cell_type": "code",
   "execution_count": 31,
   "metadata": {},
   "outputs": [],
   "source": [
    "from datascience import *\n",
    "import numpy as np\n",
    "%matplotlib inline"
   ]
  },
  {
   "cell_type": "code",
   "execution_count": 67,
   "metadata": {},
   "outputs": [
    {
     "data": {
      "text/html": [
       "<table border=\"1\" class=\"dataframe\">\n",
       "    <thead>\n",
       "        <tr>\n",
       "            <th>Die Sum</th> <th>count</th>\n",
       "        </tr>\n",
       "    </thead>\n",
       "    <tbody>\n",
       "        <tr>\n",
       "            <td>2      </td> <td>279  </td>\n",
       "        </tr>\n",
       "        <tr>\n",
       "            <td>3      </td> <td>541  </td>\n",
       "        </tr>\n",
       "        <tr>\n",
       "            <td>4      </td> <td>846  </td>\n",
       "        </tr>\n",
       "        <tr>\n",
       "            <td>5      </td> <td>1159 </td>\n",
       "        </tr>\n",
       "        <tr>\n",
       "            <td>6      </td> <td>1423 </td>\n",
       "        </tr>\n",
       "        <tr>\n",
       "            <td>7      </td> <td>1662 </td>\n",
       "        </tr>\n",
       "        <tr>\n",
       "            <td>8      </td> <td>1357 </td>\n",
       "        </tr>\n",
       "        <tr>\n",
       "            <td>9      </td> <td>1118 </td>\n",
       "        </tr>\n",
       "        <tr>\n",
       "            <td>10     </td> <td>806  </td>\n",
       "        </tr>\n",
       "        <tr>\n",
       "            <td>11     </td> <td>538  </td>\n",
       "        </tr>\n",
       "        <tr>\n",
       "            <td>12     </td> <td>271  </td>\n",
       "        </tr>\n",
       "    </tbody>\n",
       "</table>"
      ],
      "text/plain": [
       "<IPython.core.display.HTML object>"
      ]
     },
     "metadata": {},
     "output_type": "display_data"
    },
    {
     "data": {
      "image/png": "[encoded data removed]",
      "text/plain": [
       "<Figure size 432x288 with 1 Axes>"
      ]
     },
     "metadata": {},
     "output_type": "display_data"
    },
    {
     "data": {
      "image/png": "[encoded data removed]",
      "text/plain": [
       "<Figure size 432x288 with 1 Axes>"
      ]
     },
     "metadata": {},
     "output_type": "display_data"
    }
   ],
   "source": [
    "# 9.3 Simulation\n",
    "\n",
    "coins = ['heads', 'tails']\n",
    "result = []\n",
    "for i in np.arange(10000):\n",
    "    result.append(np.count_nonzero(np.random.choice(coins, 100) == 'heads'))\n",
    "#result\n",
    "heads = Table().with_columns(\n",
    "    '#', np.arange(1, 10001),\n",
    "    'Heads Count', result\n",
    ")\n",
    "heads.hist('Heads Count', bins=np.arange(30, 70, 1))\n",
    "heads\n",
    "\n",
    "# Monopoly\n",
    "die = np.arange(1,7)\n",
    "result = []\n",
    "for i in np.arange(10000):\n",
    "    result.append(np.random.choice(die, 2).sum())\n",
    "monopoly = Table().with_columns(\n",
    "    '#', np.arange(1, 10001),\n",
    "    'Die Sum', result,\n",
    ")\n",
    "monopoly.hist('Die Sum', bins = np.arange(2, 14, 1))\n",
    "monopoly.group('Die Sum').show(11)"
   ]
  },
  {
   "cell_type": "code",
   "execution_count": 87,
   "metadata": {},
   "outputs": [
    {
     "data": {
      "image/png": "[encoded data removed]",
      "text/plain": [
       "<Figure size 432x288 with 1 Axes>"
      ]
     },
     "metadata": {},
     "output_type": "display_data"
    }
   ],
   "source": [
    "# 9.4 The Monty Hall Problem\n",
    "\n",
    "def other_goat(one_goat):\n",
    "    if one_goat == 'first goat':\n",
    "        return 'second goat'\n",
    "    else:\n",
    "        return 'first goat'\n",
    "    \n",
    "def monty_hall_game():\n",
    "    hidden_behind_doors = ['first goat', 'second goat', 'car']\n",
    "    goats = ['first goat', 'second goat']\n",
    "    contestant_guess = np.random.choice(hidden_behind_doors)\n",
    "    if contestant_guess == 'first goat':\n",
    "        return [contestant_guess, 'second goat', 'car']\n",
    "    elif contestant_guess == 'second goat':\n",
    "        return [contestant_guess, 'first goat', 'car']\n",
    "    else: # car\n",
    "        revealed = np.random.choice(goats)\n",
    "        return [contestant_guess, revealed, other_goat(revealed)]\n",
    "\n",
    "games = Table(['Guess', 'Revealed', 'Remaining'])\n",
    "for i in np.arange(10000):\n",
    "    games.append(monty_hall_game())\n",
    "    \n",
    "original_choice = games.group('Guess')\n",
    "remaining_door = games.group('Remaining')\n",
    "joined = original_choice.join('Guess', remaining_door, 'Remaining')\n",
    "joined = joined.relabeled(0, 'item').relabeled(1, 'Original Door').relabeled(2, 'Remaining Door')\n",
    "joined\n",
    "joined.barh('item')"
   ]
  },
  {
   "cell_type": "code",
   "execution_count": null,
   "metadata": {},
   "outputs": [],
   "source": []
  }
 ],
 "metadata": {
  "kernelspec": {
   "display_name": "Python 3",
   "language": "python",
   "name": "python3"
  },
  "language_info": {
   "codemirror_mode": {
    "name": "ipython",
    "version": 3
   },
   "file_extension": ".py",
   "mimetype": "text/x-python",
   "name": "python",
   "nbconvert_exporter": "python",
   "pygments_lexer": "ipython3",
   "version": "3.6.3"
  }
 },
 "nbformat": 4,
 "nbformat_minor": 2
}
