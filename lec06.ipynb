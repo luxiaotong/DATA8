{
 "cells": [
  {
   "cell_type": "code",
   "execution_count": 133,
   "metadata": {},
   "outputs": [],
   "source": [
    "import numpy as np\n",
    "from datascience import *\n",
    "%matplotlib inline"
   ]
  },
  {
   "cell_type": "code",
   "execution_count": 134,
   "metadata": {},
   "outputs": [
    {
     "data": {
      "text/html": [
       "<table border=\"1\" class=\"dataframe\">\n",
       "    <thead>\n",
       "        <tr>\n",
       "            <th>Longitude</th> <th>Latitude</th> <th>City</th> <th>Direction</th> <th>Survivors</th> <th>Percent Surviving</th>\n",
       "        </tr>\n",
       "    </thead>\n",
       "    <tbody>\n",
       "        <tr>\n",
       "            <td>32       </td> <td>54.8    </td> <td>Smolensk   </td> <td>Advance  </td> <td>145000   </td> <td>100.00%          </td>\n",
       "        </tr>\n",
       "        <tr>\n",
       "            <td>33.2     </td> <td>54.9    </td> <td>Dorogobouge</td> <td>Advance  </td> <td>140000   </td> <td>96.55%           </td>\n",
       "        </tr>\n",
       "        <tr>\n",
       "            <td>34.4     </td> <td>55.5    </td> <td>Chjat      </td> <td>Advance  </td> <td>127100   </td> <td>87.66%           </td>\n",
       "        </tr>\n",
       "        <tr>\n",
       "            <td>37.6     </td> <td>55.8    </td> <td>Moscou     </td> <td>Advance  </td> <td>100000   </td> <td>68.97%           </td>\n",
       "        </tr>\n",
       "        <tr>\n",
       "            <td>34.3     </td> <td>55.2    </td> <td>Wixma      </td> <td>Retreat  </td> <td>55000    </td> <td>37.93%           </td>\n",
       "        </tr>\n",
       "        <tr>\n",
       "            <td>32       </td> <td>54.6    </td> <td>Smolensk   </td> <td>Retreat  </td> <td>24000    </td> <td>16.55%           </td>\n",
       "        </tr>\n",
       "        <tr>\n",
       "            <td>30.4     </td> <td>54.4    </td> <td>Orscha     </td> <td>Retreat  </td> <td>20000    </td> <td>13.79%           </td>\n",
       "        </tr>\n",
       "        <tr>\n",
       "            <td>26.8     </td> <td>54.3    </td> <td>Moiodexno  </td> <td>Retreat  </td> <td>12000    </td> <td>8.28%            </td>\n",
       "        </tr>\n",
       "    </tbody>\n",
       "</table>"
      ],
      "text/plain": [
       "Longitude | Latitude | City        | Direction | Survivors | Percent Surviving\n",
       "32        | 54.8     | Smolensk    | Advance   | 145000    | 100.00%\n",
       "33.2      | 54.9     | Dorogobouge | Advance   | 140000    | 96.55%\n",
       "34.4      | 55.5     | Chjat       | Advance   | 127100    | 87.66%\n",
       "37.6      | 55.8     | Moscou      | Advance   | 100000    | 68.97%\n",
       "34.3      | 55.2     | Wixma       | Retreat   | 55000     | 37.93%\n",
       "32        | 54.6     | Smolensk    | Retreat   | 24000     | 16.55%\n",
       "30.4      | 54.4     | Orscha      | Retreat   | 20000     | 13.79%\n",
       "26.8      | 54.3     | Moiodexno   | Retreat   | 12000     | 8.28%"
      ]
     },
     "execution_count": 134,
     "metadata": {},
     "output_type": "execute_result"
    }
   ],
   "source": [
    "# Table\n",
    "minard = Table().read_table('minard.csv')\n",
    "minard\n",
    "minard.num_columns\n",
    "minard.num_rows\n",
    "minard.labels\n",
    "minard.relabeled('City', 'City Name')\n",
    "minard.column('Survivors')\n",
    "minard.column('Survivors').item(0)\n",
    "minard = minard.with_columns(\n",
    "    'Percent Surviving', minard.column('Survivors')/minard.column('Survivors').item(0)\n",
    ")\n",
    "minard\n",
    "minard.set_format('Percent Surviving', PercentFormatter)\n",
    "minard.select('Longitude', 'Latitude')\n",
    "minard.drop('Longitude', 'Latitude', 'Direction')\n",
    "minard"
   ]
  },
  {
   "cell_type": "code",
   "execution_count": 135,
   "metadata": {},
   "outputs": [
    {
     "data": {
      "text/html": [
       "<table border=\"1\" class=\"dataframe\">\n",
       "    <thead>\n",
       "        <tr>\n",
       "            <th>PLAYER</th> <th>POSITION</th> <th>TEAM</th> <th>SALARY</th>\n",
       "        </tr>\n",
       "    </thead>\n",
       "    <tbody>\n",
       "        <tr>\n",
       "            <td>Chris Bosh       </td> <td>PF      </td> <td>Miami Heat           </td> <td>22.1927</td>\n",
       "        </tr>\n",
       "        <tr>\n",
       "            <td>Chris Paul       </td> <td>PG      </td> <td>Los Angeles Clippers </td> <td>21.4687</td>\n",
       "        </tr>\n",
       "        <tr>\n",
       "            <td>Derrick Rose     </td> <td>PG      </td> <td>Chicago Bulls        </td> <td>20.0931</td>\n",
       "        </tr>\n",
       "        <tr>\n",
       "            <td>LaMarcus Aldridge</td> <td>PF      </td> <td>San Antonio Spurs    </td> <td>19.689 </td>\n",
       "        </tr>\n",
       "        <tr>\n",
       "            <td>Kevin Love       </td> <td>PF      </td> <td>Cleveland Cavaliers  </td> <td>19.689 </td>\n",
       "        </tr>\n",
       "        <tr>\n",
       "            <td>Blake Griffin    </td> <td>PF      </td> <td>Los Angeles Clippers </td> <td>18.9077</td>\n",
       "        </tr>\n",
       "        <tr>\n",
       "            <td>Paul Millsap     </td> <td>PF      </td> <td>Atlanta Hawks        </td> <td>18.6717</td>\n",
       "        </tr>\n",
       "        <tr>\n",
       "            <td>Russell Westbrook</td> <td>PG      </td> <td>Oklahoma City Thunder</td> <td>16.7442</td>\n",
       "        </tr>\n",
       "        <tr>\n",
       "            <td>Kyrie Irving     </td> <td>PG      </td> <td>Cleveland Cavaliers  </td> <td>16.4075</td>\n",
       "        </tr>\n",
       "        <tr>\n",
       "            <td>John Wall        </td> <td>PG      </td> <td>Washington Wizards   </td> <td>15.852 </td>\n",
       "        </tr>\n",
       "    </tbody>\n",
       "</table>\n",
       "<p>... (160 rows omitted)</p>"
      ],
      "text/plain": [
       "PLAYER            | POSITION | TEAM                  | SALARY\n",
       "Chris Bosh        | PF       | Miami Heat            | 22.1927\n",
       "Chris Paul        | PG       | Los Angeles Clippers  | 21.4687\n",
       "Derrick Rose      | PG       | Chicago Bulls         | 20.0931\n",
       "LaMarcus Aldridge | PF       | San Antonio Spurs     | 19.689\n",
       "Kevin Love        | PF       | Cleveland Cavaliers   | 19.689\n",
       "Blake Griffin     | PF       | Los Angeles Clippers  | 18.9077\n",
       "Paul Millsap      | PF       | Atlanta Hawks         | 18.6717\n",
       "Russell Westbrook | PG       | Oklahoma City Thunder | 16.7442\n",
       "Kyrie Irving      | PG       | Cleveland Cavaliers   | 16.4075\n",
       "John Wall         | PG       | Washington Wizards    | 15.852\n",
       "... (160 rows omitted)"
      ]
     },
     "execution_count": 135,
     "metadata": {},
     "output_type": "execute_result"
    }
   ],
   "source": [
    "# Table Sorting\n",
    "nba_salaries = Table.read_table('nba_salaries.csv')\n",
    "nba_salaries\n",
    "#nba_salaries.show(20)\n",
    "#nba_salaries.sort('PLAYER').show(3)\n",
    "nba = nba_salaries.relabeled(\"2015-2016 SALARY\", 'SALARY')\n",
    "nba = nba.sort('SALARY', descending=True)\n",
    "#help(nba.sort)\n",
    "nba.take(0)\n",
    "nba.take(np.arange(3,6))\n",
    "nba.where('SALARY', are.above(20))\n",
    "nba.where('PLAYER', are.equal_to('Stephen Curry'))\n",
    "nba.where('TEAM', 'Houston Rockets')\n",
    "nba.where('POSITION', 'PG').where('SALARY', are.above(15))\n",
    "nba.where('SALARY', are.between(10, 10.3))\n",
    "nba.where('TEAM', are.containing('Warriors'))\n",
    "nba.where('POSITION', are.containing('P'))"
   ]
  },
  {
   "cell_type": "code",
   "execution_count": 136,
   "metadata": {},
   "outputs": [
    {
     "data": {
      "text/html": [
       "<table border=\"1\" class=\"dataframe\">\n",
       "    <thead>\n",
       "        <tr>\n",
       "            <th>SEX</th> <th>AGE</th> <th>2010</th> <th>2014</th> <th>CHANGE</th> <th>CHANGE PERCENTAGE</th>\n",
       "        </tr>\n",
       "    </thead>\n",
       "    <tbody>\n",
       "        <tr>\n",
       "            <td>0   </td> <td>999 </td> <td>309346863</td> <td>318907401</td> <td>9560538</td> <td>3.09%            </td>\n",
       "        </tr>\n",
       "        <tr>\n",
       "            <td>1   </td> <td>999 </td> <td>152088043</td> <td>156955337</td> <td>4867294</td> <td>3.20%            </td>\n",
       "        </tr>\n",
       "        <tr>\n",
       "            <td>2   </td> <td>999 </td> <td>157258820</td> <td>161952064</td> <td>4693244</td> <td>2.98%            </td>\n",
       "        </tr>\n",
       "        <tr>\n",
       "            <td>0   </td> <td>67  </td> <td>2693707  </td> <td>3485241  </td> <td>791534 </td> <td>29.38%           </td>\n",
       "        </tr>\n",
       "        <tr>\n",
       "            <td>0   </td> <td>64  </td> <td>2706055  </td> <td>3487559  </td> <td>781504 </td> <td>28.88%           </td>\n",
       "        </tr>\n",
       "        <tr>\n",
       "            <td>0   </td> <td>66  </td> <td>2621335  </td> <td>3347060  </td> <td>725725 </td> <td>27.69%           </td>\n",
       "        </tr>\n",
       "        <tr>\n",
       "            <td>0   </td> <td>65  </td> <td>2678525  </td> <td>3382824  </td> <td>704299 </td> <td>26.29%           </td>\n",
       "        </tr>\n",
       "        <tr>\n",
       "            <td>0   </td> <td>71  </td> <td>1953607  </td> <td>2519705  </td> <td>566098 </td> <td>28.98%           </td>\n",
       "        </tr>\n",
       "        <tr>\n",
       "            <td>0   </td> <td>34  </td> <td>3822189  </td> <td>4364748  </td> <td>542559 </td> <td>14.19%           </td>\n",
       "        </tr>\n",
       "        <tr>\n",
       "            <td>0   </td> <td>23  </td> <td>4217228  </td> <td>4702156  </td> <td>484928 </td> <td>11.50%           </td>\n",
       "        </tr>\n",
       "    </tbody>\n",
       "</table>\n",
       "<p>... (296 rows omitted)</p>"
      ],
      "text/plain": [
       "SEX  | AGE  | 2010      | 2014      | CHANGE  | CHANGE PERCENTAGE\n",
       "0    | 999  | 309346863 | 318907401 | 9560538 | 3.09%\n",
       "1    | 999  | 152088043 | 156955337 | 4867294 | 3.20%\n",
       "2    | 999  | 157258820 | 161952064 | 4693244 | 2.98%\n",
       "0    | 67   | 2693707   | 3485241   | 791534  | 29.38%\n",
       "0    | 64   | 2706055   | 3487559   | 781504  | 28.88%\n",
       "0    | 66   | 2621335   | 3347060   | 725725  | 27.69%\n",
       "0    | 65   | 2678525   | 3382824   | 704299  | 26.29%\n",
       "0    | 71   | 1953607   | 2519705   | 566098  | 28.98%\n",
       "0    | 34   | 3822189   | 4364748   | 542559  | 14.19%\n",
       "0    | 23   | 4217228   | 4702156   | 484928  | 11.50%\n",
       "... (296 rows omitted)"
      ]
     },
     "execution_count": 136,
     "metadata": {},
     "output_type": "execute_result"
    }
   ],
   "source": [
    "# Population Trends\n",
    "full_census_table = Table().read_table('nc-est2015-agesex-res.csv')\n",
    "full_census_table\n",
    "partial_census_table = full_census_table.select('SEX', 'AGE', 'POPESTIMATE2010', 'POPESTIMATE2014')\n",
    "partial_census_table\n",
    "us_pop = partial_census_table.relabel('POPESTIMATE2010', '2010').relabel('POPESTIMATE2014', '2014')\n",
    "us_pop\n",
    "change = us_pop.column('2014') - us_pop.column('2010')\n",
    "census = us_pop.with_columns(\n",
    "    'CHANGE', change,\n",
    "    'CHANGE PERCENTAGE', change/us_pop.column('2010'),\n",
    ")\n",
    "census.set_format('CHANGE PERCENTAGE', PercentFormatter)\n",
    "census.sort('CHANGE', descending=True)"
   ]
  },
  {
   "cell_type": "code",
   "execution_count": 143,
   "metadata": {},
   "outputs": [
    {
     "data": {
      "image/png": "[encoded data removed]",
      "text/plain": [
       "<Figure size 432x288 with 1 Axes>"
      ]
     },
     "metadata": {},
     "output_type": "display_data"
    }
   ],
   "source": [
    "# Trends in Gender\n",
    "us_pop\n",
    "us_pop.where('SEX', 0).where('AGE', are.between(97,101))\n",
    "us_pop_2014 = us_pop.drop('2010')\n",
    "all_ages_2014 = us_pop_2014.where('AGE', 999)\n",
    "all_ages_2014.with_column(\n",
    "    'Proportion', all_ages_2014.column('2014')/all_ages_2014.column('2014').item(0),\n",
    ").set_format('Proportion', PercentFormatter)\n",
    "\n",
    "infants_2014 = us_pop.where('AGE', 0).drop('2010')\n",
    "infants_2014.with_column(\n",
    "    'Proportion', infants_2014.column('2014')/infants_2014.column('2014').item(0)\n",
    ").set_format('Proportion', PercentFormatter)\n",
    "\n",
    "ratios = Table().with_columns(\n",
    "    'AGE', us_pop_2014.where('SEX', 0).column('AGE'),\n",
    "    '2014 F:M RATIO', us_pop_2014.where('SEX', 2).column('2014')/us_pop_2014.where('SEX', 1).column('2014')\n",
    ").set_format('2014 F:M RATIO', PercentFormatter)\n",
    "ratios\n",
    "#ratios.where('AGE', are.above(75)).show()\n",
    "ratios.where('AGE', are.not_equal_to(999)).plot('AGE')"
   ]
  },
  {
   "cell_type": "code",
   "execution_count": null,
   "metadata": {},
   "outputs": [],
   "source": []
  },
  {
   "cell_type": "code",
   "execution_count": null,
   "metadata": {},
   "outputs": [],
   "source": []
  }
 ],
 "metadata": {
  "kernelspec": {
   "display_name": "Python 3",
   "language": "python",
   "name": "python3"
  },
  "language_info": {
   "codemirror_mode": {
    "name": "ipython",
    "version": 3
   },
   "file_extension": ".py",
   "mimetype": "text/x-python",
   "name": "python",
   "nbconvert_exporter": "python",
   "pygments_lexer": "ipython3",
   "version": "3.6.3"
  }
 },
 "nbformat": 4,
 "nbformat_minor": 2
}
